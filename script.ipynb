{
 "cells": [
  {
   "cell_type": "code",
   "execution_count": 2,
   "metadata": {},
   "outputs": [],
   "source": [
    "datapath = 'income-data/data.csv'\n",
    "\n",
    "file = open(datapath, 'w+')\n",
    "\n",
    "final_data = \"\"\n",
    "\n",
    "for line in file:\n",
    "    final_data += line\n",
    "    \n",
    "final_data = final_data.replace(' ', ',')\n",
    "\n",
    "file = open('data.csv', 'w+')\n",
    "\n",
    "file.write(final_data)\n",
    "\n",
    "file.close()"
   ]
  },
  {
   "cell_type": "code",
   "execution_count": null,
   "metadata": {},
   "outputs": [],
   "source": []
  }
 ],
 "metadata": {
  "kernelspec": {
   "display_name": "Python 3",
   "language": "python",
   "name": "python3"
  },
  "language_info": {
   "codemirror_mode": {
    "name": "ipython",
    "version": 3
   },
   "file_extension": ".py",
   "mimetype": "text/x-python",
   "name": "python",
   "nbconvert_exporter": "python",
   "pygments_lexer": "ipython3",
   "version": "3.6.6"
  }
 },
 "nbformat": 4,
 "nbformat_minor": 2
}
