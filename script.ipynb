{
 "cells": [
  {
   "cell_type": "code",
   "execution_count": 10,
   "metadata": {},
   "outputs": [
    {
     "name": "stdout",
     "output_type": "stream",
     "text": [
      "   days temperature humidity    wind label\n",
      "0    D1         Hot     High    Weak    No\n",
      "1    D2         Hot     High  Strong    No\n",
      "7    D8        Mild     High    Weak    No\n",
      "8    D9        Cool   Normal    Weak   Yes\n",
      "10  D11        Mild   Normal  Strong   Yes\n"
     ]
    }
   ],
   "source": [
    "import pandas as pd\n",
    "\n",
    "datapath = 'income-data/data.csv'\n",
    "\n",
    "data = pd.read_csv(datapath)\n",
    "\n",
    "data.drop(['days'], axis = 1)\n",
    "\n",
    "subset = data[data['outlook'] == 'Sunny']\n",
    "subset = subset.drop(['outlook'], axis = 1)\n",
    "\n",
    "print(subset)\n",
    "    \n",
    "    \n"
   ]
  },
  {
   "cell_type": "code",
   "execution_count": null,
   "metadata": {},
   "outputs": [],
   "source": []
  }
 ],
 "metadata": {
  "kernelspec": {
   "display_name": "Python 3",
   "language": "python",
   "name": "python3"
  },
  "language_info": {
   "codemirror_mode": {
    "name": "ipython",
    "version": 3
   },
   "file_extension": ".py",
   "mimetype": "text/x-python",
   "name": "python",
   "nbconvert_exporter": "python",
   "pygments_lexer": "ipython3",
   "version": "3.6.6"
  }
 },
 "nbformat": 4,
 "nbformat_minor": 2
}
