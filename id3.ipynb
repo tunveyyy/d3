{
 "cells": [
  {
   "cell_type": "code",
   "execution_count": 2,
   "metadata": {},
   "outputs": [],
   "source": [
    "import sys\n",
    "import time\n",
    "import math\n",
    "import numpy as np\n",
    "import pandas as pd"
   ]
  },
  {
   "cell_type": "code",
   "execution_count": 3,
   "metadata": {},
   "outputs": [],
   "source": [
    "class Node:\n",
    "    def __init__(self, attribute_name, is_continuous, threshold, total_positive, total_negative, is_leaf):\n",
    "        self.attribute_name = attribute_name\n",
    "        self.is_continuous = is_continuous\n",
    "        self.threshold = threshold\n",
    "        self.total_positive = total_positive\n",
    "        self.total_negative = total_negative\n",
    "        self.is_leaf = is_leaf\n",
    "        self.child = {}"
   ]
  },
  {
   "cell_type": "code",
   "execution_count": 4,
   "metadata": {},
   "outputs": [],
   "source": [
    "def read_temp(path):\n",
    "    column_names = ['days', 'outlook', 'temperature', 'humidity', 'wind', 'decision']\n",
    "    data = pd.read_csv(path, names = column_names)\n",
    "    data = data.drop(['days'], axis = 1)\n",
    "    "
   ]
  },
  {
   "cell_type": "code",
   "execution_count": 5,
   "metadata": {},
   "outputs": [],
   "source": [
    "def read_data(train_data_path, dev_data_path, test_data_path):\n",
    "    column_names = ['age', 'workclass', 'education', 'marital-status', 'occupation', 'race', 'sex', 'hours', 'country', 'income']\n",
    "    train_data = pd.read_csv(train_data_path, names = column_names)\n",
    "    dev_data = pd.read_csv(dev_data_path, names = column_names)\n",
    "    test_data = pd.read_csv(test_data_path, names = column_names)\n",
    "    \n",
    "    return (train_data, dev_data, test_data)"
   ]
  },
  {
   "cell_type": "code",
   "execution_count": 6,
   "metadata": {},
   "outputs": [],
   "source": [
    "def calculate_threshold(data, label):\n",
    "    data = data.values\n",
    "    label = label.valuesl\n",
    "    indexes = data.argsort()\n",
    "    data = np.flip(data[indexes[::-1]])\n",
    "    label = np.flip(label[indexes[::-1]])\n",
    "    label_df = pd.DataFrame(label)\n",
    "    candidate_threshold = []\n",
    "    info_gains = []\n",
    "    \n",
    "    for i in range(data.size - 1):\n",
    "        threshold = data[i] + (data[i + 1] - data[i]) / 2\n",
    "        if threshold not in candidate_threshold:\n",
    "            candidate_threshold.append(threshold)\n",
    "        else:\n",
    "            continue\n",
    "        \n",
    "    for threshold in candidate_threshold:\n",
    "        values = data < threshold\n",
    "        values_df = pd.DataFrame(values)\n",
    "        gain = information_gain(values_df, label_df)\n",
    "        info_gains.append(gain)\n",
    "    \n",
    "    m = max(info_gains)\n",
    "    max_posn = [i for i, j in enumerate(info_gains) if j == m]\n",
    "    candidate_threshold = np.array(candidate_threshold)\n",
    "    print(candidate_threshold[max_posn])\n",
    "    "
   ]
  },
  {
   "cell_type": "code",
   "execution_count": 7,
   "metadata": {},
   "outputs": [],
   "source": [
    "def information_gain(data, label):\n",
    "    attributes, count = np.unique(data, return_counts = True)\n",
    "    attribute_count = dict(zip(attributes, count))\n",
    "    label = label.values\n",
    "    data = data.values\n",
    "    entropies = []\n",
    "    for attribute in attribute_count:\n",
    "        index = np.where(data == attribute)\n",
    "        op_cls = np.take(label, index)[0]\n",
    "        ops, total = np.unique(op_cls, return_counts = True)\n",
    "        ops_total = dict(zip(ops, total))\n",
    "        entropy = 0\n",
    "        try:\n",
    "            entropy = calculate_entropy(ops_total[list(ops_total)[0]], ops_total[list(ops_total)[1]])\n",
    "        except:\n",
    "            entropy = calculate_entropy(ops_total[list(ops_total)[0]])\n",
    "        entropy = entropy * (attribute_count[attribute] / len(label))\n",
    "        entropies.append(entropy)\n",
    "    ops, total = np.unique(label, return_counts = True)\n",
    "    ops_total = dict(zip(ops, total))\n",
    "    entropy = calculate_entropy(ops_total[list(ops_total)[0]], ops_total[list(ops_total)[1]])\n",
    "    information = entropy - np.sum(entropies)\n",
    "    return information\n",
    "    "
   ]
  },
  {
   "cell_type": "code",
   "execution_count": 8,
   "metadata": {},
   "outputs": [],
   "source": [
    "def calculate_entropy(positive, negative = 0):\n",
    "    total = positive + negative\n",
    "    if negative == 0:\n",
    "        return - (positive/total) * math.log((positive/total), 2)\n",
    "    else:\n",
    "        return - (positive/total) * math.log((positive/total), 2) - (negative/total) * math.log((negative/total), 2)"
   ]
  },
  {
   "cell_type": "code",
   "execution_count": 9,
   "metadata": {},
   "outputs": [],
   "source": [
    "def id3(data, attributes):\n",
    "    \n",
    "    for attribute in attributes:\n",
    "        "
   ]
  },
  {
   "cell_type": "code",
   "execution_count": 12,
   "metadata": {},
   "outputs": [
    {
     "name": "stdout",
     "output_type": "stream",
     "text": [
      "age\n",
      "workclass\n",
      "education\n",
      "marital-status\n",
      "occupation\n",
      "race\n",
      "sex\n",
      "hours\n",
      "country\n"
     ]
    }
   ],
   "source": [
    "if __name__ == '__main__':\n",
    "    train_data_path = 'income-data/income.train.txt'\n",
    "    dev_data_path = 'income-data/income.dev.txt'\n",
    "    test_data_path = 'income-data/income.test.txt'\n",
    "    \n",
    "    (train_data, dev_data, test_data) = read_data(train_data_path, dev_data_path, test_data_path)\n",
    "    \n",
    "    attributes = train_data.columns.values\n",
    "    index = np.argwhere(attributes == 'income')\n",
    "    attributes = np.delete(attributes, index)\n",
    "    id3(train_data, attributes)\n",
    "    \n",
    "    #calculate_threshold(train_data['age'], train_data['income'])"
   ]
  },
  {
   "cell_type": "code",
   "execution_count": null,
   "metadata": {},
   "outputs": [],
   "source": []
  },
  {
   "cell_type": "code",
   "execution_count": null,
   "metadata": {},
   "outputs": [],
   "source": []
  }
 ],
 "metadata": {
  "kernelspec": {
   "display_name": "Python 3",
   "language": "python",
   "name": "python3"
  },
  "language_info": {
   "codemirror_mode": {
    "name": "ipython",
    "version": 3
   },
   "file_extension": ".py",
   "mimetype": "text/x-python",
   "name": "python",
   "nbconvert_exporter": "python",
   "pygments_lexer": "ipython3",
   "version": "3.6.6"
  }
 },
 "nbformat": 4,
 "nbformat_minor": 2
}
