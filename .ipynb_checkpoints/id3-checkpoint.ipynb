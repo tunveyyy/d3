{
 "cells": [
  {
   "cell_type": "code",
   "execution_count": 21,
   "metadata": {},
   "outputs": [],
   "source": [
    "import sys\n",
    "import time\n",
    "import math\n",
    "import numpy as np\n",
    "import pandas as pd"
   ]
  },
  {
   "cell_type": "code",
   "execution_count": 85,
   "metadata": {},
   "outputs": [],
   "source": [
    "def read_temp(path):\n",
    "    column_names = ['days', 'outlook', 'temperature', 'humidity', 'wind', 'decision']\n",
    "    data = pd.read_csv(path, names = column_names)\n",
    "    data = data.drop(['days'], axis = 1)\n",
    "    information_gain(data['outlook'], data['decision'])\n",
    "    "
   ]
  },
  {
   "cell_type": "code",
   "execution_count": 52,
   "metadata": {},
   "outputs": [],
   "source": [
    "def read_data(train_data_path, dev_data_path, test_data_path):\n",
    "    column_names = ['age', 'workclass', 'education', 'marital-status', 'occupation', 'race', 'sex', 'hours', 'country', 'income']\n",
    "    train_data = pd.read_csv(train_data_path, names = column_names)\n",
    "    dev_data = pd.read_csv(dev_data_path, names = column_names)\n",
    "    test_data = pd.read_csv(test_data_path, names = column_names)\n",
    "    information_gain(train_data['workclass'], train_data['income'])\n",
    "    "
   ]
  },
  {
   "cell_type": "code",
   "execution_count": 126,
   "metadata": {},
   "outputs": [],
   "source": [
    "def information_gain(data, label):\n",
    "    attributes, count = np.unique(data, return_counts = True)\n",
    "    attribute_count = dict(zip(attributes, count))\n",
    "    label = label.values\n",
    "    data = data.values\n",
    "    entropies = []\n",
    "    \n",
    "    for attribute in attribute_count:\n",
    "        index = np.where(data == attribute)\n",
    "        op_cls = np.take(label, index)[0]\n",
    "        ops, total = np.unique(op_cls, return_counts = True)\n",
    "        ops_total = dict(zip(ops, total))\n",
    "        entropy = 0\n",
    "        try:\n",
    "            entropy = calculate_entropy(ops_total[list(ops_total)[0]], ops_total[list(ops_total)[1]])\n",
    "        except:\n",
    "            entropy = calculate_entropy(ops_total[list(ops_total)[0]])\n",
    "        \n",
    "        entropies.append(entropy)\n",
    "    ops, total = np.unique(label, return_counts = True)\n",
    "    ops_total = dict(zip(ops, total))\n",
    "    entropy = calculate_entropy(ops_total[list(ops_total)[0]], ops_total[list(ops_total)[1]])\n",
    "    information = entropy - np.sum(entropies)\n",
    "    print(np.sum(entropies))\n",
    "    "
   ]
  },
  {
   "cell_type": "code",
   "execution_count": 122,
   "metadata": {},
   "outputs": [],
   "source": [
    "def calculate_entropy(positive, negative = 0):\n",
    "    total = positive + negative\n",
    "    if negative == 0:\n",
    "        return - (positive/total) * math.log((positive/total), 2)\n",
    "    else:\n",
    "        return - (positive/total) * math.log((positive/total), 2) - (negative/total) * math.log((negative/total), 2)"
   ]
  },
  {
   "cell_type": "code",
   "execution_count": 127,
   "metadata": {},
   "outputs": [
    {
     "name": "stdout",
     "output_type": "stream",
     "text": [
      "0\n",
      "3\n",
      "2\n",
      "9\n",
      "1.9419011889093372\n"
     ]
    }
   ],
   "source": [
    "if __name__ == '__main__':\n",
    "    train_data_path = 'income-data/income.train.txt'\n",
    "    dev_data_path = 'income-data/income.dev.txt'\n",
    "    test_data_path = 'income-data/income.test.txt'\n",
    "    #read_data(train_data_path, dev_data_path, test_data_path)\n",
    "    read_temp('income-data/data.csv')"
   ]
  },
  {
   "cell_type": "code",
   "execution_count": null,
   "metadata": {},
   "outputs": [],
   "source": []
  },
  {
   "cell_type": "code",
   "execution_count": null,
   "metadata": {},
   "outputs": [],
   "source": []
  }
 ],
 "metadata": {
  "kernelspec": {
   "display_name": "Python 3",
   "language": "python",
   "name": "python3"
  },
  "language_info": {
   "codemirror_mode": {
    "name": "ipython",
    "version": 3
   },
   "file_extension": ".py",
   "mimetype": "text/x-python",
   "name": "python",
   "nbconvert_exporter": "python",
   "pygments_lexer": "ipython3",
   "version": "3.6.6"
  }
 },
 "nbformat": 4,
 "nbformat_minor": 2
}
